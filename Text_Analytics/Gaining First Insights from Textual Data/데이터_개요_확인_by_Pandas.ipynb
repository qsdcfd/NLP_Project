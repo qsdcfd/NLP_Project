{
  "nbformat": 4,
  "nbformat_minor": 0,
  "metadata": {
    "colab": {
      "provenance": [],
      "mount_file_id": "1OZx68scbr30TlWUEeLtj85BCVwpDas5i",
      "authorship_tag": "ABX9TyPbUTrlXTtq5jQG0588lLMX"
    },
    "kernelspec": {
      "name": "python3",
      "display_name": "Python 3"
    },
    "language_info": {
      "name": "python"
    }
  },
  "cells": [
    {
      "cell_type": "markdown",
      "source": [
        "# 전략: Pandas로 데이터 개요 확인\n",
        "\n",
        ">메타데이터와 레코드 수를 이용해서 데이터 분포 및 품질을 살펴보는 전략이다.\n",
        "\n"
      ],
      "metadata": {
        "id": "7ZK_gJXEcDLC"
      }
    },
    {
      "cell_type": "code",
      "execution_count": 1,
      "metadata": {
        "id": "jPwPLOwKbnZs"
      },
      "outputs": [],
      "source": [
        "import pandas as pd\n",
        "import numpy as np\n",
        "\n"
      ]
    },
    {
      "cell_type": "code",
      "source": [
        "df = pd.read_csv(\"/content/drive/MyDrive/UN/un-general-debates.csv\")"
      ],
      "metadata": {
        "id": "iPf6RwGjbug-"
      },
      "execution_count": 2,
      "outputs": []
    },
    {
      "cell_type": "markdown",
      "source": [
        "### 요약통계를 계산한다."
      ],
      "metadata": {
        "id": "QqTaJ_ItcNXn"
      }
    },
    {
      "cell_type": "markdown",
      "source": [
        "**열에 대한 요약 통계 계산**\n",
        "\n",
        ">pandas의 describe 함수는 데이터프레임의 열에 대한 통계 요약을 계산하고, 데이터 프레임뿐만 아니라 단일 시리즈에서도 작동한다.\n",
        "\n",
        "<br>\n",
        "\n",
        ">단일 시리즈에서 통계 요약을 계산한 경우 데이터프레임에는 기본 출력이 숫자 열로 제한되고, 현재 데이터프레임에는 세션 번호와 연도만 숫자 데이터로 존재하므로, 연설의 길이 분포에 대한 추가 정보를 얻기 위해서 텍스트 길이 열 추가 후 행열 전환"
      ],
      "metadata": {
        "id": "lV3tCHbocQ3l"
      }
    },
    {
      "cell_type": "code",
      "source": [
        "df['length'] = df['text'].str.len()\n",
        "\n",
        "df.describe().T"
      ],
      "metadata": {
        "colab": {
          "base_uri": "https://localhost:8080/",
          "height": 143
        },
        "id": "Olayqyk0cBaj",
        "outputId": "bbffe659-c26b-4b73-ef60-9ff5f2006c99"
      },
      "execution_count": 3,
      "outputs": [
        {
          "output_type": "execute_result",
          "data": {
            "text/plain": [
              "          count          mean          std     min      25%      50%      75%  \\\n",
              "session  7507.0     49.610763    12.892155    25.0     39.0     51.0     61.0   \n",
              "year     7507.0   1994.610763    12.892155  1970.0   1984.0   1996.0   2006.0   \n",
              "length   7507.0  17967.281604  7860.038463  2362.0  12077.0  16424.0  22479.5   \n",
              "\n",
              "             max  \n",
              "session     70.0  \n",
              "year      2015.0  \n",
              "length   72041.0  "
            ],
            "text/html": [
              "\n",
              "  <div id=\"df-40103f76-a54f-44cf-b090-9557bfcbc3de\">\n",
              "    <div class=\"colab-df-container\">\n",
              "      <div>\n",
              "<style scoped>\n",
              "    .dataframe tbody tr th:only-of-type {\n",
              "        vertical-align: middle;\n",
              "    }\n",
              "\n",
              "    .dataframe tbody tr th {\n",
              "        vertical-align: top;\n",
              "    }\n",
              "\n",
              "    .dataframe thead th {\n",
              "        text-align: right;\n",
              "    }\n",
              "</style>\n",
              "<table border=\"1\" class=\"dataframe\">\n",
              "  <thead>\n",
              "    <tr style=\"text-align: right;\">\n",
              "      <th></th>\n",
              "      <th>count</th>\n",
              "      <th>mean</th>\n",
              "      <th>std</th>\n",
              "      <th>min</th>\n",
              "      <th>25%</th>\n",
              "      <th>50%</th>\n",
              "      <th>75%</th>\n",
              "      <th>max</th>\n",
              "    </tr>\n",
              "  </thead>\n",
              "  <tbody>\n",
              "    <tr>\n",
              "      <th>session</th>\n",
              "      <td>7507.0</td>\n",
              "      <td>49.610763</td>\n",
              "      <td>12.892155</td>\n",
              "      <td>25.0</td>\n",
              "      <td>39.0</td>\n",
              "      <td>51.0</td>\n",
              "      <td>61.0</td>\n",
              "      <td>70.0</td>\n",
              "    </tr>\n",
              "    <tr>\n",
              "      <th>year</th>\n",
              "      <td>7507.0</td>\n",
              "      <td>1994.610763</td>\n",
              "      <td>12.892155</td>\n",
              "      <td>1970.0</td>\n",
              "      <td>1984.0</td>\n",
              "      <td>1996.0</td>\n",
              "      <td>2006.0</td>\n",
              "      <td>2015.0</td>\n",
              "    </tr>\n",
              "    <tr>\n",
              "      <th>length</th>\n",
              "      <td>7507.0</td>\n",
              "      <td>17967.281604</td>\n",
              "      <td>7860.038463</td>\n",
              "      <td>2362.0</td>\n",
              "      <td>12077.0</td>\n",
              "      <td>16424.0</td>\n",
              "      <td>22479.5</td>\n",
              "      <td>72041.0</td>\n",
              "    </tr>\n",
              "  </tbody>\n",
              "</table>\n",
              "</div>\n",
              "      <button class=\"colab-df-convert\" onclick=\"convertToInteractive('df-40103f76-a54f-44cf-b090-9557bfcbc3de')\"\n",
              "              title=\"Convert this dataframe to an interactive table.\"\n",
              "              style=\"display:none;\">\n",
              "        \n",
              "  <svg xmlns=\"http://www.w3.org/2000/svg\" height=\"24px\"viewBox=\"0 0 24 24\"\n",
              "       width=\"24px\">\n",
              "    <path d=\"M0 0h24v24H0V0z\" fill=\"none\"/>\n",
              "    <path d=\"M18.56 5.44l.94 2.06.94-2.06 2.06-.94-2.06-.94-.94-2.06-.94 2.06-2.06.94zm-11 1L8.5 8.5l.94-2.06 2.06-.94-2.06-.94L8.5 2.5l-.94 2.06-2.06.94zm10 10l.94 2.06.94-2.06 2.06-.94-2.06-.94-.94-2.06-.94 2.06-2.06.94z\"/><path d=\"M17.41 7.96l-1.37-1.37c-.4-.4-.92-.59-1.43-.59-.52 0-1.04.2-1.43.59L10.3 9.45l-7.72 7.72c-.78.78-.78 2.05 0 2.83L4 21.41c.39.39.9.59 1.41.59.51 0 1.02-.2 1.41-.59l7.78-7.78 2.81-2.81c.8-.78.8-2.07 0-2.86zM5.41 20L4 18.59l7.72-7.72 1.47 1.35L5.41 20z\"/>\n",
              "  </svg>\n",
              "      </button>\n",
              "      \n",
              "  <style>\n",
              "    .colab-df-container {\n",
              "      display:flex;\n",
              "      flex-wrap:wrap;\n",
              "      gap: 12px;\n",
              "    }\n",
              "\n",
              "    .colab-df-convert {\n",
              "      background-color: #E8F0FE;\n",
              "      border: none;\n",
              "      border-radius: 50%;\n",
              "      cursor: pointer;\n",
              "      display: none;\n",
              "      fill: #1967D2;\n",
              "      height: 32px;\n",
              "      padding: 0 0 0 0;\n",
              "      width: 32px;\n",
              "    }\n",
              "\n",
              "    .colab-df-convert:hover {\n",
              "      background-color: #E2EBFA;\n",
              "      box-shadow: 0px 1px 2px rgba(60, 64, 67, 0.3), 0px 1px 3px 1px rgba(60, 64, 67, 0.15);\n",
              "      fill: #174EA6;\n",
              "    }\n",
              "\n",
              "    [theme=dark] .colab-df-convert {\n",
              "      background-color: #3B4455;\n",
              "      fill: #D2E3FC;\n",
              "    }\n",
              "\n",
              "    [theme=dark] .colab-df-convert:hover {\n",
              "      background-color: #434B5C;\n",
              "      box-shadow: 0px 1px 3px 1px rgba(0, 0, 0, 0.15);\n",
              "      filter: drop-shadow(0px 1px 2px rgba(0, 0, 0, 0.3));\n",
              "      fill: #FFFFFF;\n",
              "    }\n",
              "  </style>\n",
              "\n",
              "      <script>\n",
              "        const buttonEl =\n",
              "          document.querySelector('#df-40103f76-a54f-44cf-b090-9557bfcbc3de button.colab-df-convert');\n",
              "        buttonEl.style.display =\n",
              "          google.colab.kernel.accessAllowed ? 'block' : 'none';\n",
              "\n",
              "        async function convertToInteractive(key) {\n",
              "          const element = document.querySelector('#df-40103f76-a54f-44cf-b090-9557bfcbc3de');\n",
              "          const dataTable =\n",
              "            await google.colab.kernel.invokeFunction('convertToInteractive',\n",
              "                                                     [key], {});\n",
              "          if (!dataTable) return;\n",
              "\n",
              "          const docLinkHtml = 'Like what you see? Visit the ' +\n",
              "            '<a target=\"_blank\" href=https://colab.research.google.com/notebooks/data_table.ipynb>data table notebook</a>'\n",
              "            + ' to learn more about interactive tables.';\n",
              "          element.innerHTML = '';\n",
              "          dataTable['output_type'] = 'display_data';\n",
              "          await google.colab.output.renderOutput(dataTable, element);\n",
              "          const docLink = document.createElement('div');\n",
              "          docLink.innerHTML = docLinkHtml;\n",
              "          element.appendChild(docLink);\n",
              "        }\n",
              "      </script>\n",
              "    </div>\n",
              "  </div>\n",
              "  "
            ]
          },
          "metadata": {},
          "execution_count": 3
        }
      ]
    },
    {
      "cell_type": "markdown",
      "source": [
        "숫자가 아닌 열의 요약은 include='0'(np.object의 별칭)를 지정해 생성하고, 열에 들어 있는 데이터의 개수, 고유값의 수, 최상위 요소 및 최상위 요소의 빈도를 얻고, 고유값은 텍스트 데이터에 유용하지 않으므로 국가 빛 발표자 열을 분석한다."
      ],
      "metadata": {
        "id": "SbCbyy_Mc_LC"
      }
    },
    {
      "cell_type": "code",
      "source": [
        "df[['country']].describe(include='O').T"
      ],
      "metadata": {
        "colab": {
          "base_uri": "https://localhost:8080/",
          "height": 81
        },
        "id": "r9ZNbP63cyFB",
        "outputId": "10bd9065-914c-43d0-db68-9555fd46b9bf"
      },
      "execution_count": 9,
      "outputs": [
        {
          "output_type": "execute_result",
          "data": {
            "text/plain": [
              "        count unique  top freq\n",
              "country  7507    199  IRN   46"
            ],
            "text/html": [
              "\n",
              "  <div id=\"df-e711656f-2dbf-4238-ba5e-d9872e21aeb1\">\n",
              "    <div class=\"colab-df-container\">\n",
              "      <div>\n",
              "<style scoped>\n",
              "    .dataframe tbody tr th:only-of-type {\n",
              "        vertical-align: middle;\n",
              "    }\n",
              "\n",
              "    .dataframe tbody tr th {\n",
              "        vertical-align: top;\n",
              "    }\n",
              "\n",
              "    .dataframe thead th {\n",
              "        text-align: right;\n",
              "    }\n",
              "</style>\n",
              "<table border=\"1\" class=\"dataframe\">\n",
              "  <thead>\n",
              "    <tr style=\"text-align: right;\">\n",
              "      <th></th>\n",
              "      <th>count</th>\n",
              "      <th>unique</th>\n",
              "      <th>top</th>\n",
              "      <th>freq</th>\n",
              "    </tr>\n",
              "  </thead>\n",
              "  <tbody>\n",
              "    <tr>\n",
              "      <th>country</th>\n",
              "      <td>7507</td>\n",
              "      <td>199</td>\n",
              "      <td>IRN</td>\n",
              "      <td>46</td>\n",
              "    </tr>\n",
              "  </tbody>\n",
              "</table>\n",
              "</div>\n",
              "      <button class=\"colab-df-convert\" onclick=\"convertToInteractive('df-e711656f-2dbf-4238-ba5e-d9872e21aeb1')\"\n",
              "              title=\"Convert this dataframe to an interactive table.\"\n",
              "              style=\"display:none;\">\n",
              "        \n",
              "  <svg xmlns=\"http://www.w3.org/2000/svg\" height=\"24px\"viewBox=\"0 0 24 24\"\n",
              "       width=\"24px\">\n",
              "    <path d=\"M0 0h24v24H0V0z\" fill=\"none\"/>\n",
              "    <path d=\"M18.56 5.44l.94 2.06.94-2.06 2.06-.94-2.06-.94-.94-2.06-.94 2.06-2.06.94zm-11 1L8.5 8.5l.94-2.06 2.06-.94-2.06-.94L8.5 2.5l-.94 2.06-2.06.94zm10 10l.94 2.06.94-2.06 2.06-.94-2.06-.94-.94-2.06-.94 2.06-2.06.94z\"/><path d=\"M17.41 7.96l-1.37-1.37c-.4-.4-.92-.59-1.43-.59-.52 0-1.04.2-1.43.59L10.3 9.45l-7.72 7.72c-.78.78-.78 2.05 0 2.83L4 21.41c.39.39.9.59 1.41.59.51 0 1.02-.2 1.41-.59l7.78-7.78 2.81-2.81c.8-.78.8-2.07 0-2.86zM5.41 20L4 18.59l7.72-7.72 1.47 1.35L5.41 20z\"/>\n",
              "  </svg>\n",
              "      </button>\n",
              "      \n",
              "  <style>\n",
              "    .colab-df-container {\n",
              "      display:flex;\n",
              "      flex-wrap:wrap;\n",
              "      gap: 12px;\n",
              "    }\n",
              "\n",
              "    .colab-df-convert {\n",
              "      background-color: #E8F0FE;\n",
              "      border: none;\n",
              "      border-radius: 50%;\n",
              "      cursor: pointer;\n",
              "      display: none;\n",
              "      fill: #1967D2;\n",
              "      height: 32px;\n",
              "      padding: 0 0 0 0;\n",
              "      width: 32px;\n",
              "    }\n",
              "\n",
              "    .colab-df-convert:hover {\n",
              "      background-color: #E2EBFA;\n",
              "      box-shadow: 0px 1px 2px rgba(60, 64, 67, 0.3), 0px 1px 3px 1px rgba(60, 64, 67, 0.15);\n",
              "      fill: #174EA6;\n",
              "    }\n",
              "\n",
              "    [theme=dark] .colab-df-convert {\n",
              "      background-color: #3B4455;\n",
              "      fill: #D2E3FC;\n",
              "    }\n",
              "\n",
              "    [theme=dark] .colab-df-convert:hover {\n",
              "      background-color: #434B5C;\n",
              "      box-shadow: 0px 1px 3px 1px rgba(0, 0, 0, 0.15);\n",
              "      filter: drop-shadow(0px 1px 2px rgba(0, 0, 0, 0.3));\n",
              "      fill: #FFFFFF;\n",
              "    }\n",
              "  </style>\n",
              "\n",
              "      <script>\n",
              "        const buttonEl =\n",
              "          document.querySelector('#df-e711656f-2dbf-4238-ba5e-d9872e21aeb1 button.colab-df-convert');\n",
              "        buttonEl.style.display =\n",
              "          google.colab.kernel.accessAllowed ? 'block' : 'none';\n",
              "\n",
              "        async function convertToInteractive(key) {\n",
              "          const element = document.querySelector('#df-e711656f-2dbf-4238-ba5e-d9872e21aeb1');\n",
              "          const dataTable =\n",
              "            await google.colab.kernel.invokeFunction('convertToInteractive',\n",
              "                                                     [key], {});\n",
              "          if (!dataTable) return;\n",
              "\n",
              "          const docLinkHtml = 'Like what you see? Visit the ' +\n",
              "            '<a target=\"_blank\" href=https://colab.research.google.com/notebooks/data_table.ipynb>data table notebook</a>'\n",
              "            + ' to learn more about interactive tables.';\n",
              "          element.innerHTML = '';\n",
              "          dataTable['output_type'] = 'display_data';\n",
              "          await google.colab.output.renderOutput(dataTable, element);\n",
              "          const docLink = document.createElement('div');\n",
              "          docLink.innerHTML = docLinkHtml;\n",
              "          element.appendChild(docLink);\n",
              "        }\n",
              "      </script>\n",
              "    </div>\n",
              "  </div>\n",
              "  "
            ]
          },
          "metadata": {},
          "execution_count": 9
        }
      ]
    },
    {
      "cell_type": "markdown",
      "source": [
        "---"
      ],
      "metadata": {
        "id": "sUS_yJuDd1LM"
      }
    },
    {
      "cell_type": "markdown",
      "source": [
        "**누락된 데이터 확인**\n",
        "\n",
        ">누락된 값을 확인하는 방법은 df.isna()를 사용하여 모든 열에 null값이 있는지 확인하고 결과 요약하여 계산한다."
      ],
      "metadata": {
        "id": "BzSVkp4yd-5z"
      }
    },
    {
      "cell_type": "code",
      "source": [
        "df.isna().sum()"
      ],
      "metadata": {
        "colab": {
          "base_uri": "https://localhost:8080/"
        },
        "id": "mT2IvB3rdSRq",
        "outputId": "8c51f266-c43a-4d8f-b874-b20487e480ea"
      },
      "execution_count": 10,
      "outputs": [
        {
          "output_type": "execute_result",
          "data": {
            "text/plain": [
              "session    0\n",
              "year       0\n",
              "country    0\n",
              "text       0\n",
              "length     0\n",
              "dtype: int64"
            ]
          },
          "metadata": {},
          "execution_count": 10
        }
      ]
    },
    {
      "cell_type": "code",
      "source": [
        "df['null_column'].fillna(\"unknown\",inplace=True)"
      ],
      "metadata": {
        "id": "e8ww3QhiedPt"
      },
      "execution_count": null,
      "outputs": []
    },
    {
      "cell_type": "markdown",
      "source": [
        "**특정 단어가 들어있는 단어들의 고유값**\n",
        "\n",
        ">아래와 같이 모호성을 해결하지 않은 채 분석하면 잘못된 결과가 나오므로 범주형 속성의 고유값을 확인하는 것이 중요하다."
      ],
      "metadata": {
        "id": "HTw97yovemFN"
      }
    },
    {
      "cell_type": "code",
      "source": [
        "df[df['country'].str.contains('IR')]['country'].value_counts()"
      ],
      "metadata": {
        "colab": {
          "base_uri": "https://localhost:8080/"
        },
        "id": "gBUcCwzdemWZ",
        "outputId": "55100b1a-bcf1-4216-9bb6-a7e56076e2c7"
      },
      "execution_count": 11,
      "outputs": [
        {
          "output_type": "execute_result",
          "data": {
            "text/plain": [
              "IRQ    46\n",
              "IRN    46\n",
              "IRL    45\n",
              "KIR    13\n",
              "Name: country, dtype: int64"
            ]
          },
          "metadata": {},
          "execution_count": 11
        }
      ]
    },
    {
      "cell_type": "markdown",
      "source": [
        "---"
      ],
      "metadata": {
        "id": "ET4PGNJMfX3a"
      }
    },
    {
      "cell_type": "markdown",
      "source": [
        "**값 분포 시각화**\n",
        "\n",
        ">숫자 분포의 5가지 요약 수치를 시각화하는 한 방법은 박스플롯이고, 팬더스에 내장된 플롯 기능을 통해서 길이열에 대한 박스 플롯\n",
        "\n"
      ],
      "metadata": {
        "id": "z0br-KBjfZGz"
      }
    },
    {
      "cell_type": "code",
      "source": [
        "df['length'].plot(kind='box',vert=False)"
      ],
      "metadata": {
        "colab": {
          "base_uri": "https://localhost:8080/",
          "height": 283
        },
        "id": "kWP8Uz1RfM7K",
        "outputId": "b300989a-5a5e-4d70-956d-6c2c6dc89edf"
      },
      "execution_count": 12,
      "outputs": [
        {
          "output_type": "execute_result",
          "data": {
            "text/plain": [
              "<matplotlib.axes._subplots.AxesSubplot at 0x7f54be60a5e0>"
            ]
          },
          "metadata": {},
          "execution_count": 12
        },
        {
          "output_type": "display_data",
          "data": {
            "text/plain": [
              "<Figure size 432x288 with 1 Axes>"
            ],
            "image/png": "[encoded data removed]"
          },
          "metadata": {
            "needs_background": "light"
          }
        }
      ]
    },
    {
      "cell_type": "markdown",
      "source": [
        ">플롯을 보면, 연설의 50%는 길이가 12000 ~ 22000자이며 중앙값은 16,000자이고 오른쪽에는 다양한 이상값이고, 분포가 왼쪽으로 치운친 것을 볼 수 있다."
      ],
      "metadata": {
        "id": "xNTBCxBIg15n"
      }
    },
    {
      "cell_type": "code",
      "source": [
        "\"\"\"\n",
        "히스토그램에서 길이 범위를 너비가 동일한 구간 30개로 나누고,\n",
        "y축은 각 구간에서 속하는 문서의 개수를 나타낸다.\n",
        "히스토그램을 그리면 더 자세한 정보를 얻을수 있다.\n",
        "\"\"\"\n",
        "\n",
        "df['length'].plot(kind='hist',bins=30)"
      ],
      "metadata": {
        "colab": {
          "base_uri": "https://localhost:8080/",
          "height": 283
        },
        "id": "XyQcZBUag0Gv",
        "outputId": "adbeb3eb-b499-4bb6-ddba-d33f032e0cbb"
      },
      "execution_count": 13,
      "outputs": [
        {
          "output_type": "execute_result",
          "data": {
            "text/plain": [
              "<matplotlib.axes._subplots.AxesSubplot at 0x7f54be413400>"
            ]
          },
          "metadata": {},
          "execution_count": 13
        },
        {
          "output_type": "display_data",
          "data": {
            "text/plain": [
              "<Figure size 432x288 with 1 Axes>"
            ],
            "image/png": "[encoded data removed]"
          },
          "metadata": {
            "needs_background": "light"
          }
        }
      ]
    },
    {
      "cell_type": "markdown",
      "source": [
        "---"
      ],
      "metadata": {
        "id": "YqS_H2VDhZX7"
      }
    },
    {
      "cell_type": "markdown",
      "source": [
        "**범주간의 값 분포 비교**\n",
        "\n",
        ">데이터 특성은 데이터의 하위 집합을 검사할 때 종종 보이는데, 다양한 범주의 분포를 비교하는 좋은 시각화 도구는 seaborn의 catplot이다.\n",
        "\n"
      ],
      "metadata": {
        "id": "5fE0fH7VhaWI"
      }
    },
    {
      "cell_type": "code",
      "source": [
        "#박스플롯과 바이올릿 플롯을 사용해서\n",
        "#상임이사 5인의 연설 길이 분포 비교\n",
        "\n",
        "import seaborn as sns\n",
        "\n",
        "where = df['country'].isin([\"USA\",\"FRA\",\"GBR\",\"CHN\",\"RUS\"])\n",
        "sns.catplot(data=df[where], x='country', y='length',kind='box')\n",
        "sns.catplot(data=df[where], x='country', y='length',kind='violin')"
      ],
      "metadata": {
        "colab": {
          "base_uri": "https://localhost:8080/",
          "height": 739
        },
        "id": "WkHGJK3WhMAk",
        "outputId": "556bbc63-5bc5-44a0-d5f3-b1451f211bdb"
      },
      "execution_count": 15,
      "outputs": [
        {
          "output_type": "execute_result",
          "data": {
            "text/plain": [
              "<seaborn.axisgrid.FacetGrid at 0x7f54b681bee0>"
            ]
          },
          "metadata": {},
          "execution_count": 15
        },
        {
          "output_type": "display_data",
          "data": {
            "text/plain": [
              "<Figure size 360x360 with 1 Axes>"
            ],
            "image/png": "[encoded data removed]"
          },
          "metadata": {
            "needs_background": "light"
          }
        },
        {
          "output_type": "display_data",
          "data": {
            "text/plain": [
              "<Figure size 360x360 with 1 Axes>"
            ],
            "image/png": "[encoded data removed]"
          },
          "metadata": {
            "needs_background": "light"
          }
        }
      ]
    },
    {
      "cell_type": "markdown",
      "source": [
        "바이올린 플롯은 박스 플롯의 부드러운 버전이고, 빈도는 바이올린 플롯의 너비로 표현되었지만 바이올린 내부의 박스 플롯으로 확인할 수 있고, 두 플롯에서 모두 러시아(RUS)의 분산값이 영국(GBR)보다 훨씬 크다.\n",
        "\n",
        "그러나, 러시아 같은 다중 피크의 존재는 바이올린 플롯에서만 분명해진다."
      ],
      "metadata": {
        "id": "tTN_DP8fiQBC"
      }
    },
    {
      "cell_type": "markdown",
      "source": [
        "---"
      ],
      "metadata": {
        "id": "HxehCV3FilF_"
      }
    },
    {
      "cell_type": "markdown",
      "source": [
        "**시간 경과에 따른 변화 시각화**\n",
        "\n",
        ">데이터에 날짜 혹은 시간이 주어졌을 때 시간 경과에 따른 데이터의 변화를 시각화하는 것은 흥미로운 과정으로 연간 연설 횟수를 분석해 첫 번째 시계열을 만든다.\n",
        "\n",
        "pandas의 size()함수를 사용해서 그룹화한 후 그룹당 행의 개수를 반환하여 plot()함수를 추가해 결과 데이터프레임으로 간단히 시각화"
      ],
      "metadata": {
        "id": "skQjL4T3imI3"
      }
    },
    {
      "cell_type": "code",
      "source": [
        "df.groupby('year').size().plot(title=\"Number of Countries\")"
      ],
      "metadata": {
        "colab": {
          "base_uri": "https://localhost:8080/",
          "height": 313
        },
        "id": "8B2xzEUwiHq7",
        "outputId": "2337e07f-a646-4d70-ae46-c19a463f74a1"
      },
      "execution_count": 16,
      "outputs": [
        {
          "output_type": "execute_result",
          "data": {
            "text/plain": [
              "<matplotlib.axes._subplots.AxesSubplot at 0x7f54b3f62100>"
            ]
          },
          "metadata": {},
          "execution_count": 16
        },
        {
          "output_type": "display_data",
          "data": {
            "text/plain": [
              "<Figure size 432x288 with 1 Axes>"
            ],
            "image/png": "[encoded data removed]"
          },
          "metadata": {
            "needs_background": "light"
          }
        }
      ]
    },
    {
      "cell_type": "markdown",
      "source": [
        "각 국가는 일년에 한 번만 연설할 수 있고, 타임라인은 유엔 가입 국가 수의 변화를 나타낸다.\n",
        "\n",
        "유엔 회원국의 수는 199개국이고, 더 많은 국가가 토론에 참여할수록 연설 시간이 줄어든다는 점이 흥미롭다."
      ],
      "metadata": {
        "id": "xGggJGZZmbDm"
      }
    },
    {
      "cell_type": "code",
      "source": [
        "df.groupby(\"year\").agg({'length':'mean'}) \\\n",
        "  .plot(title=\"Avg. Spech Length\", ylim=(0,30000))"
      ],
      "metadata": {
        "colab": {
          "base_uri": "https://localhost:8080/",
          "height": 313
        },
        "id": "v5IaLc7Glvv0",
        "outputId": "b5587993-4464-46c3-8d22-ede70a094fb9"
      },
      "execution_count": 18,
      "outputs": [
        {
          "output_type": "execute_result",
          "data": {
            "text/plain": [
              "<matplotlib.axes._subplots.AxesSubplot at 0x7f54b1ed6c10>"
            ]
          },
          "metadata": {},
          "execution_count": 18
        },
        {
          "output_type": "display_data",
          "data": {
            "text/plain": [
              "<Figure size 432x288 with 1 Axes>"
            ],
            "image/png": "[encoded data removed]"
          },
          "metadata": {
            "needs_background": "light"
          }
        }
      ]
    },
    {
      "cell_type": "markdown",
      "source": [
        "참고 링크:https://pandas.pydata.org/pandas-docs/stable/reference/frame.html#serialization-io-conversion"
      ],
      "metadata": {
        "id": "ToCblQvhnBM9"
      }
    },
    {
      "cell_type": "markdown",
      "source": [
        "---"
      ],
      "metadata": {
        "id": "WMAKjOj-nYB4"
      }
    },
    {
      "cell_type": "markdown",
      "source": [
        "**시간 리샘플링**\n",
        "\n",
        ">유엔 데이터셋에는 연간 데이터가 이미 존재하므로, 정수 열인 year는 그룹화에 사용할 수 있는 이산값을 포함합니다.\n",
        "\n",
        "<br>\n",
        "\n",
        "데이터셋은 시각화할 때 적절한 단위로 집계가 가능하도록 세분화된 날짜 혹은 시간의 값을 포함하여 상황에 따라 시간 단위를 연간 또는 수십 년 등 다양하게 사용할 수 있다.\n",
        "\n",
        "<br>\n",
        "\n",
        "판다스에는 날짜/시간 값에 엑세스하는 기능이 내장되어 있다.\n",
        "\n",
        "|Datatime 속성|설명|Datatime 속성|설명|\n",
        "|------|------|------|------|\n",
        "|dt.date|datetime에서 날짜부분|dt.hour|datetime에서 시간부분|\n",
        "|dt.year|연도|dt.month|연도 안에서의 월|\n",
        "|dt.quarter|연도 안에서의 분기|dt.week|연도 안에서의 주|"
      ],
      "metadata": {
        "id": "vaqMUJMknY7r"
      }
    },
    {
      "cell_type": "code",
      "source": [
        "\"\"\"\n",
        "데이터프레임에서 time이란 이름의 열에 datetime에 데이터를 저장\n",
        "그 다음 명령어로 데이터프레임 연도에 열을 추가할 수 있다.\n",
        "\"\"\"\n",
        "df['year'] = df['time'].dt.year"
      ],
      "metadata": {
        "id": "amwFNnmYmzUR"
      },
      "execution_count": null,
      "outputs": []
    },
    {
      "cell_type": "markdown",
      "source": [
        ">적절한 레이블이 있는 시계열을 그리려면 2020/week 24같은 형태로 결합된 값이 필요하고 판다스에서 제공하는 dt.strftime()을 사용하여 유연하게 해결할 수 있다."
      ],
      "metadata": {
        "id": "czphsTuQpAWq"
      }
    },
    {
      "cell_type": "code",
      "source": [
        "df['week'] = df['time'].dt.strftime(\"%Y/Week %W\")"
      ],
      "metadata": {
        "id": "rzIVEOPVo9UH"
      },
      "execution_count": null,
      "outputs": []
    },
    {
      "cell_type": "markdown",
      "source": [
        ">Pandas는 시계열 리샘플링을 위한 내장 함수 resample()을 제공하지만 시계열 데이터를 일 단위로 집계하므로 텍스트 작업에는 유용하지 않다."
      ],
      "metadata": {
        "id": "OErJ-xubqHdg"
      }
    },
    {
      "cell_type": "code",
      "source": [],
      "metadata": {
        "id": "zI7SUqKBqR_5"
      },
      "execution_count": null,
      "outputs": []
    }
  ]
}